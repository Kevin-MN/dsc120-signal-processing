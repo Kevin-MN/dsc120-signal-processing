{
 "cells": [
  {
   "cell_type": "markdown",
   "metadata": {
    "id": "BKHiB77mi3fb"
   },
   "source": [
    "# Instructions:\n",
    "In the notebook below you will be implementing an image compression algorithm.  \n",
    "In some parts you will be asked to write a block of code.  \n",
    "In other parts you will be asked a Question and will need to write an answer in the following block.\n",
    "\n",
    "This programming exercise will walk you through all the steps, borrow from what we've learned, and produce a final prodct.  If at any point you get stuck on one block of code or it doesn't create the correct output, you can skip that block and move onto the next.  To allow for this, we've uploaded our versions of the \"check points\" from each block of code.\n",
    "\n",
    "Say you've gotten stuck on $Block_i$.  On Canvas we have files called $Output\\_Block\\_i$.  Download them, and read them as input to $Block_{i+1}$.  Then continue writing and running your code for $Block_{i+1}$.  If you do this, you may lose points on $Block_i$ since it is uncompleted or incorrect, but you are still elligable for full points on $Block_{i+1}$.  This way, you can complete the code in sections in case you get stuck.  \n",
    "\n",
    "In order to receive a perfect score on the coding part this problem, you must be able to run your code correctly from beginning to end (and get the correct output) without loading in any of our check points.  "
   ]
  },
  {
   "cell_type": "markdown",
   "metadata": {
    "id": "vFCoEcZ2i3fg"
   },
   "source": [
    "# Image Compression"
   ]
  },
  {
   "cell_type": "markdown",
   "metadata": {
    "id": "-FZutnlGi3fg"
   },
   "source": [
    "For an 8 megapixel camera, the raw size of an image woudl be 8 millions pixels times 3 color channels (red-green-blue or RGB) times 8-bits (or 1 byte) to represent each color-channel.\n",
    "Overall this would result in a file size of 24 Megabytes. However if you check the images you take with your cell-phone the actual file-size is much smaller than that (around 10% of the raw image size).\n",
    "That's because the image is compressed prior to storage. One of the most popular compression techniques is JPEG."
   ]
  },
  {
   "cell_type": "markdown",
   "metadata": {
    "id": "_0jQ1rOzi3fh"
   },
   "source": [
    "During the course we've been learning about frequency domain transforms and the advantage of such transforms to sparsely represent data.This means that for a high dimensional signal of length $n$, by converting it to the frequency domain we need $d \\ll n $ elements to represent most of the information in a signal.\n",
    "One of the most extreme examples are a sinusoid of length $n$ and frequency $f_0$ which in the DFT domain has only $2 \\ll n $ non-zero elements. "
   ]
  },
  {
   "cell_type": "markdown",
   "metadata": {
    "id": "2lpHgw1Pi3fh"
   },
   "source": [
    "In this project, we will learn and implement a modified version of the JPEG image compression algorithm. JPEG is a **lossy** image compression algorithm relying on a frequency domain transform called DCT. By reducing or removing high-frequency information, the image can be represented using  a significantly smaller number of elements than $n_{rows} \\times n_{columns}$ pixels. Image compression (and signal compression in general) is important for efficient data storage and sharing.   \n",
    "Note that the actual implementation of JPEG differs from the implementation below and relies on coding theory which we have not covered in the course."
   ]
  },
  {
   "cell_type": "markdown",
   "metadata": {
    "id": "7qAuIvEki3fi"
   },
   "source": [
    "## 0) Background: The Discrete Cosine Transform (DCT)"
   ]
  },
  {
   "cell_type": "markdown",
   "metadata": {
    "id": "f-8deAqUi3fj"
   },
   "source": [
    "We bein with defining the DCT and inverse DCT two-dimensional transforms (scipy only implements the 1D version of the DCT).  \n",
    "The DCT as opposed to the DFT is a real-valued transform based on cosines and given by \n",
    "$$ D[u,v]=\\alpha_{u}\\alpha_{v} \\sum_{m=0}^{M-1}\\sum_{n=0}^{N-1}I[m,n]\\cos(\\frac{\\pi(2m+1)u}{2M})\\cos(\\frac{\\pi(2n+1)v}{2N}),$$ where $0\\leq u \\leq M-1,\\quad 0 \\leq v \\leq N-1$ and \n",
    "$$ \\alpha_u =  \\begin{cases} \n",
    "1/\\sqrt{M},\\quad u=0 \\\\\n",
    "\\sqrt{2/M}, \\quad  1\\leq u \\leq M-1\n",
    "\\end{cases} $$ and\n",
    "$$ \\alpha_v =  \\begin{cases} \n",
    "1/\\sqrt{N},\\quad v=0 \\\\\n",
    "\\sqrt{2/N}, \\quad  1\\leq v \\leq N-1\n",
    "\\end{cases}. $$  \n",
    "Note that this is still a frequency-based transformation of the data, however as opposed to the DFT its basis funcitons are real cosine signals of increasing frequency, as opposed to the complex exponential basis fucntions of the DFT."
   ]
  },
  {
   "cell_type": "markdown",
   "metadata": {
    "id": "keElMiZYi3fk"
   },
   "source": [
    "The inverse transform, IDCT, in 2D is given by \n",
    "$$ I[m,n]=\\sum_{u=0}^{M-1}\\sum_{v=0}^{N-1} \\alpha_{u}\\alpha_{v} D[u,v]\\cos(\\frac{\\pi(2m+1)u}{2M})\\cos(\\frac{\\pi(2n+1)v}{2N}),$$ where $0\\leq m \\leq M-1,\\quad 0 \\leq n \\leq N-1$ and \n",
    "$$ \\alpha_u =  \\begin{cases} \n",
    "1/\\sqrt{M},\\quad u=0 \\\\\n",
    "\\sqrt{2/M}, \\quad  1\\leq u \\leq M-1\n",
    "\\end{cases} $$ and\n",
    "$$ \\alpha_v =  \\begin{cases} \n",
    "1/\\sqrt{N},\\quad v=0 \\\\\n",
    "\\sqrt{2/N}, \\quad  1\\leq v \\leq N-1\n",
    "\\end{cases}. $$  "
   ]
  },
  {
   "cell_type": "markdown",
   "metadata": {
    "id": "-S3ttTjbi3fl"
   },
   "source": [
    "We define 2 functions applying the 2D DCT and IDCT to a 2D input (note we are using the orthonormal version of the transform as defiend above)"
   ]
  },
  {
   "cell_type": "code",
   "execution_count": 15,
   "metadata": {
    "id": "1LLHbrLNi3fl"
   },
   "outputs": [],
   "source": [
    "import numpy as np\n",
    "from skimage.color import rgb2gray\n",
    "import matplotlib.pyplot as plt\n",
    "import scipy\n",
    "from skimage.transform import resize\n",
    "import pywt\n",
    "import matplotlib\n",
    "from PIL import Image"
   ]
  },
  {
   "cell_type": "code",
   "execution_count": 5,
   "metadata": {
    "id": "vJxXKCZ3i3fn"
   },
   "outputs": [],
   "source": [
    "def dct2(a):\n",
    "    return scipy.fft.dct( scipy.fft.dct( a, axis=0, norm='ortho' ), axis=1, norm='ortho' )\n",
    "\n",
    "def idct2(a):\n",
    "    return scipy.fft.idct( scipy.fft.idct( a, axis=0 , norm='ortho'), axis=1 , norm='ortho')"
   ]
  },
  {
   "cell_type": "markdown",
   "metadata": {
    "id": "i3S7iBfri3fn"
   },
   "source": [
    "Note: if the above code doesn't work for you then uncomment and use the block below (uses scipy.fftpack instead of scipy.fft)"
   ]
  },
  {
   "cell_type": "code",
   "execution_count": null,
   "metadata": {
    "id": "UCbZ0ty-i3fo"
   },
   "outputs": [],
   "source": [
    "# def dct2(a):\n",
    "#    return scipy.fft.dct( scipy.fftpack.dct( a, axis=0, norm='ortho' ), axis=1, norm='ortho' )\n",
    "#\n",
    "# def idct2(a):\n",
    "#    return scipy.fft.idct( scipy.fftpack.idct( a, axis=0 , norm='ortho'), axis=1 , norm='ortho')"
   ]
  },
  {
   "cell_type": "markdown",
   "metadata": {
    "id": "K2kW4h25i3fo"
   },
   "source": [
    "Let's plot the basis functions of the $8 \\times 8$ 2D-DCT. Each $8\\times 8$ block in the image below is one of the 64 basis functions. The DCT transforms an $8 \\times 8$ block of input values to a linear combination of these 64 \"patterns\", which are the two-dimensional DCT basis functions. The output values are referred to as transform coefficients."
   ]
  },
  {
   "cell_type": "code",
   "execution_count": 6,
   "metadata": {
    "id": "Wtl0JkvJi3fo",
    "outputId": "992f113a-9776-415d-84ef-86dafc806204"
   },
   "outputs": [
    {
     "data": {
      "image/png": "[encoded data removed]",
      "text/plain": [
       "<Figure size 432x288 with 2 Axes>"
      ]
     },
     "metadata": {
      "needs_background": "light"
     },
     "output_type": "display_data"
    }
   ],
   "source": [
    "I = -0.3*np.ones((8*8+7,8*8+7))\n",
    "\n",
    "for r in range(0,8):\n",
    "    for c in range(0,8):\n",
    "        block = np.zeros((8,8))\n",
    "        block[r,c] = 1\n",
    "        I[(r*8+r):(r*8+r)+8,(c*8+c):(c*8+c)+8] = idct2(block)\n",
    "\n",
    "plt.imshow(I,cmap='gray')\n",
    "plt.colorbar()\n",
    "plt.show()"
   ]
  },
  {
   "cell_type": "markdown",
   "metadata": {
    "id": "vQwEOepxi3fp"
   },
   "source": [
    "### Question\n",
    "Using the definition of the IDCT, explain why this code \n",
    "```\n",
    "block = np.zeros((8,8))\n",
    "block[u,v] = 1\n",
    "idct2(block)```\n",
    "\n",
    "produces the 2D-DCT basis function of frequency $(u,v)$."
   ]
  },
  {
   "cell_type": "code",
   "execution_count": 6,
   "metadata": {},
   "outputs": [
    {
     "data": {
      "text/plain": [
       "array([[ 0.24048494,  0.20387329,  0.13622378,  0.04783543, -0.04783543,\n",
       "        -0.13622378, -0.20387329, -0.24048494],\n",
       "       [ 0.20387329,  0.17283543,  0.11548494,  0.04055292, -0.04055292,\n",
       "        -0.11548494, -0.17283543, -0.20387329],\n",
       "       [ 0.13622378,  0.11548494,  0.07716457,  0.02709659, -0.02709659,\n",
       "        -0.07716457, -0.11548494, -0.13622378],\n",
       "       [ 0.04783543,  0.04055292,  0.02709659,  0.00951506, -0.00951506,\n",
       "        -0.02709659, -0.04055292, -0.04783543],\n",
       "       [-0.04783543, -0.04055292, -0.02709659, -0.00951506,  0.00951506,\n",
       "         0.02709659,  0.04055292,  0.04783543],\n",
       "       [-0.13622378, -0.11548494, -0.07716457, -0.02709659,  0.02709659,\n",
       "         0.07716457,  0.11548494,  0.13622378],\n",
       "       [-0.20387329, -0.17283543, -0.11548494, -0.04055292,  0.04055292,\n",
       "         0.11548494,  0.17283543,  0.20387329],\n",
       "       [-0.24048494, -0.20387329, -0.13622378, -0.04783543,  0.04783543,\n",
       "         0.13622378,  0.20387329,  0.24048494]])"
      ]
     },
     "execution_count": 6,
     "metadata": {},
     "output_type": "execute_result"
    }
   ],
   "source": [
    "block = np.zeros((8,8))\n",
    "block[1,1] = 1\n",
    "idct2(block)"
   ]
  },
  {
   "cell_type": "markdown",
   "metadata": {
    "id": "umV0BvuGi3fq"
   },
   "source": [
    "### Answer"
   ]
  },
  {
   "cell_type": "markdown",
   "metadata": {
    "id": "CLCoSGTvi3fq"
   },
   "source": [
    "Because there will be a pixel present in the region of the respctive dft space that maps to the basis function of that region."
   ]
  },
  {
   "cell_type": "markdown",
   "metadata": {
    "id": "056iXBgXi3fq"
   },
   "source": [
    "## 1) Importing and preprocessing an image "
   ]
  },
  {
   "cell_type": "markdown",
   "metadata": {
    "id": "ifufwk9xi3fq"
   },
   "source": [
    "This part of the code will load an image and preprocess it.\n",
    "\n",
    "In the following block, write code to \n",
    "- input an image to the notebook. \n",
    "- convert the image from an RGB (3 color channel image of size $M \\times N \\times 3$) to grayscale (image of size $M \\times N$).\n",
    "- resize the image to $512 \\times 512$. \n",
    "- plot your image in grayscale and include a colorbar.\n",
    "\n",
    "You can use functions from numpy, scipy and skimage that were loaded in the preamble in part 0)."
   ]
  },
  {
   "cell_type": "code",
   "execution_count": 24,
   "metadata": {
    "id": "Uv2wgkTSi3fr",
    "scrolled": false
   },
   "outputs": [
    {
     "data": {
      "text/plain": [
       "<matplotlib.colorbar.Colorbar at 0x7f19a92a4df0>"
      ]
     },
     "execution_count": 24,
     "metadata": {},
     "output_type": "execute_result"
    },
    {
     "data": {
      "text/plain": [
       "<Figure size 432x288 with 0 Axes>"
      ]
     },
     "metadata": {},
     "output_type": "display_data"
    },
    {
     "data": {
      "image/png": "[encoded data removed]",
      "text/plain": [
       "<Figure size 1008x1008 with 2 Axes>"
      ]
     },
     "metadata": {
      "needs_background": "light"
     },
     "output_type": "display_data"
    }
   ],
   "source": [
    "# read an image file\n",
    "M = 512 # number of rows\n",
    "N = 512  # number of columns \n",
    "\n",
    "x = np.arange(0,N)  # horizontal grid \n",
    "y = np.arange(0,M)  # vertical grid \n",
    "xx, yy = np.meshgrid(x, y)\n",
    "\n",
    "#image = Image.open('image.png').convert(\"L\")\n",
    "img1 = matplotlib.pyplot.imread('image.png')\n",
    "\n",
    "# convert image to grayscale\n",
    "plt.gray()\n",
    "# resize image to 512 times 512\n",
    "image = image.resize((512,512))\n",
    "# plot image\n",
    "fig = plt.figure(figsize =(14,14))\n",
    "plt.subplot(1, 2, 1)\n",
    "\n",
    "plt.imshow(image, cmap=\"gray\", aspect='equal')  # imshow is how we plot images, cmap is colormap\n",
    "plt.colorbar()\n"
   ]
  },
  {
   "cell_type": "code",
   "execution_count": 19,
   "metadata": {},
   "outputs": [
    {
     "data": {
      "image/png": "[encoded data removed]",
      "text/plain": [
       "<Figure size 432x288 with 1 Axes>"
      ]
     },
     "metadata": {
      "needs_background": "light"
     },
     "output_type": "display_data"
    }
   ],
   "source": [
    "fname = 'UCSD-logo.png'\n",
    "image = Image.open(fname).convert(\"L\")\n",
    "arr = np.asarray(image)\n",
    "plt.imshow(arr, cmap='gray', vmin=0, vmax=255)\n",
    "plt.show()"
   ]
  },
  {
   "cell_type": "markdown",
   "metadata": {
    "id": "JAg83kY2i3fr"
   },
   "source": [
    "# 2) Blockwise DCT transform\n",
    "\n",
    "The JPEG compression algorithm is based on dividing the image up into blocks (or image patches).  \n",
    "In the following block write a fucntion that will \n",
    "- break up the image into 2D disjoint patches of $8 \\times 8$. \n",
    "- apply the ```dct2``` function defined above to each patch. \n",
    "- The output is an $M \\times N$ image where each block has been transform into DCT coefficients.  \n",
    "\n",
    "Note the patches are disjoint and do not overlap. The upper-left coordinates of the patches are $(0,0),(0,8),(0,16),...,(8,0),(8,8),...(16,0),(16,8),...,(M-8,N-8)$."
   ]
  },
  {
   "cell_type": "code",
   "execution_count": 70,
   "metadata": {},
   "outputs": [],
   "source": [
    "img_arr = np.asarray(image)\n",
    "patches = []\n",
    "for n in np.arange(512):\n",
    "    for k in np.arange(8):\n",
    "        patch = (img_arr[n])[k * 8:(k+1) *8]\n",
    "        patches.append(patch)"
   ]
  },
  {
   "cell_type": "code",
   "execution_count": 79,
   "metadata": {},
   "outputs": [
    {
     "data": {
      "text/plain": [
       "[array([0, 0, 0, 0, 0, 0, 0, 0], dtype=uint8),\n",
       " array([0, 0, 0, 0, 0, 0, 0, 0], dtype=uint8),\n",
       " array([0, 0, 0, 0, 0, 0, 0, 0], dtype=uint8),\n",
       " array([0, 0, 0, 0, 0, 0, 0, 0], dtype=uint8),\n",
       " array([0, 0, 0, 0, 0, 0, 0, 0], dtype=uint8),\n",
       " array([0, 0, 0, 0, 0, 0, 0, 0], dtype=uint8),\n",
       " array([0, 0, 0, 0, 0, 0, 0, 0], dtype=uint8),\n",
       " array([0, 0, 0, 0, 0, 0, 0, 0], dtype=uint8)]"
      ]
     },
     "execution_count": 79,
     "metadata": {},
     "output_type": "execute_result"
    }
   ],
   "source": [
    "patches[38:46]"
   ]
  },
  {
   "cell_type": "code",
   "execution_count": 64,
   "metadata": {
    "scrolled": true
   },
   "outputs": [
    {
     "data": {
      "text/plain": [
       "64"
      ]
     },
     "execution_count": 64,
     "metadata": {},
     "output_type": "execute_result"
    }
   ],
   "source": [
    "len(patches)"
   ]
  },
  {
   "cell_type": "code",
   "execution_count": 68,
   "metadata": {},
   "outputs": [
    {
     "data": {
      "text/plain": [
       "512"
      ]
     },
     "execution_count": 68,
     "metadata": {},
     "output_type": "execute_result"
    }
   ],
   "source": [
    "len(patches[0][0])"
   ]
  },
  {
   "cell_type": "code",
   "execution_count": 65,
   "metadata": {},
   "outputs": [
    {
     "data": {
      "text/plain": [
       "8"
      ]
     },
     "execution_count": 65,
     "metadata": {},
     "output_type": "execute_result"
    }
   ],
   "source": [
    "len(patches)"
   ]
  },
  {
   "cell_type": "code",
   "execution_count": 69,
   "metadata": {},
   "outputs": [
    {
     "data": {
      "text/plain": [
       "array([[0, 0, 0, 0, 0, 0, 0, 0, 0, 0, 0, 0, 0, 0, 0, 0, 0, 0, 0, 0, 0, 0,\n",
       "        0, 0, 0, 0, 0, 0, 0, 0, 0, 0, 0, 0, 0, 0, 0, 0, 0, 0, 0, 0, 0, 0,\n",
       "        0, 0, 0, 0, 0, 0, 0, 0, 0, 0, 0, 0, 0, 0, 0, 0, 0, 0, 0, 0, 0, 0,\n",
       "        0, 0, 0, 0, 0, 0, 0, 0, 0, 0, 0, 0, 0, 0, 0, 0, 0, 0, 0, 0, 0, 0,\n",
       "        0, 0, 0, 0, 0, 0, 0, 0, 0, 0, 0, 0, 0, 0, 0, 0, 0, 0, 0, 0, 0, 0,\n",
       "        0, 0, 0, 0, 0, 0, 0, 0, 0, 0, 0, 0, 0, 0, 0, 0, 0, 0, 0, 0, 0, 0,\n",
       "        0, 0, 0, 0, 0, 0, 0, 0, 0, 0, 0, 0, 0, 0, 0, 0, 0, 0, 0, 0, 0, 0,\n",
       "        0, 0, 0, 0, 0, 0, 0, 0, 0, 0, 0, 0, 0, 0, 0, 0, 0, 0, 0, 0, 0, 0,\n",
       "        0, 0, 0, 0, 0, 0, 0, 0, 0, 0, 0, 0, 0, 0, 0, 0, 0, 0, 0, 0, 0, 0,\n",
       "        0, 0, 0, 0, 0, 0, 0, 0, 0, 0, 0, 0, 0, 0, 0, 0, 0, 0, 0, 0, 0, 0,\n",
       "        0, 0, 0, 0, 0, 0, 0, 0, 0, 0, 0, 0, 0, 0, 0, 0, 0, 0, 0, 0, 0, 0,\n",
       "        0, 0, 0, 0, 0, 0, 0, 0, 0, 0, 0, 0, 0, 0, 0, 0, 0, 0, 0, 0, 0, 0,\n",
       "        0, 0, 0, 0, 0, 0, 0, 0, 0, 0, 0, 0, 0, 0, 0, 0, 0, 0, 0, 0, 0, 0,\n",
       "        0, 0, 0, 0, 0, 0, 0, 0, 0, 0, 0, 0, 0, 0, 0, 0, 0, 0, 0, 0, 0, 0,\n",
       "        0, 0, 0, 0, 0, 0, 0, 0, 0, 0, 0, 0, 0, 0, 0, 0, 0, 0, 0, 0, 0, 0,\n",
       "        0, 0, 0, 0, 0, 0, 0, 0, 0, 0, 0, 0, 0, 0, 0, 0, 0, 0, 0, 0, 0, 0,\n",
       "        0, 0, 0, 0, 0, 0, 0, 0, 0, 0, 0, 0, 0, 0, 0, 0, 0, 0, 0, 0, 0, 0,\n",
       "        0, 0, 0, 0, 0, 0, 0, 0, 0, 0, 0, 0, 0, 0, 0, 0, 0, 0, 0, 0, 0, 0,\n",
       "        0, 0, 0, 0, 0, 0, 0, 0, 0, 0, 0, 0, 0, 0, 0, 0, 0, 0, 0, 0, 0, 0,\n",
       "        0, 0, 0, 0, 0, 0, 0, 0, 0, 0, 0, 0, 0, 0, 0, 0, 0, 0, 0, 0, 0, 0,\n",
       "        0, 0, 0, 0, 0, 0, 0, 0, 0, 0, 0, 0, 0, 0, 0, 0, 0, 0, 0, 0, 0, 0,\n",
       "        0, 0, 0, 0, 0, 0, 0, 0, 0, 0, 0, 0, 0, 0, 0, 0, 0, 0, 0, 0, 0, 0,\n",
       "        0, 0, 0, 0, 0, 0, 0, 0, 0, 0, 0, 0, 0, 0, 0, 0, 0, 0, 0, 0, 0, 0,\n",
       "        0, 0, 0, 0, 0, 0]], dtype=uint8)"
      ]
     },
     "execution_count": 69,
     "metadata": {},
     "output_type": "execute_result"
    }
   ],
   "source": [
    "(img_arr[0])[0:8]"
   ]
  },
  {
   "cell_type": "code",
   "execution_count": 55,
   "metadata": {},
   "outputs": [],
   "source": [
    "patch = img_arr[0:1]"
   ]
  },
  {
   "cell_type": "code",
   "execution_count": 57,
   "metadata": {},
   "outputs": [
    {
     "data": {
      "text/plain": [
       "512"
      ]
     },
     "execution_count": 57,
     "metadata": {},
     "output_type": "execute_result"
    }
   ],
   "source": [
    "len(patch[0])"
   ]
  },
  {
   "cell_type": "code",
   "execution_count": 103,
   "metadata": {},
   "outputs": [],
   "source": [
    "image2 = np.asarray(image)"
   ]
  },
  {
   "cell_type": "code",
   "execution_count": 104,
   "metadata": {
    "scrolled": true
   },
   "outputs": [
    {
     "data": {
      "text/plain": [
       "True"
      ]
     },
     "execution_count": 104,
     "metadata": {},
     "output_type": "execute_result"
    }
   ],
   "source": [
    "len(image2) % 8 == 0"
   ]
  },
  {
   "cell_type": "code",
   "execution_count": 106,
   "metadata": {},
   "outputs": [
    {
     "data": {
      "text/plain": [
       "True"
      ]
     },
     "execution_count": 106,
     "metadata": {},
     "output_type": "execute_result"
    }
   ],
   "source": [
    "len(image2[0]) % 8 == 0"
   ]
  },
  {
   "cell_type": "code",
   "execution_count": 107,
   "metadata": {
    "id": "NqK1CiCDi3fr"
   },
   "outputs": [],
   "source": [
    "def dct_block_image(image):\n",
    "    image2 = np.asarray(image)\n",
    "    # verify image height and width are multiples of 8\n",
    "    if (len(image2) % 8 == 0) & (len(image2[0]) %8 == 0):\n",
    "        return True\n",
    "    return False"
   ]
  },
  {
   "cell_type": "code",
   "execution_count": 108,
   "metadata": {},
   "outputs": [
    {
     "data": {
      "text/plain": [
       "True"
      ]
     },
     "execution_count": 108,
     "metadata": {},
     "output_type": "execute_result"
    }
   ],
   "source": [
    "dct_block_image(image)"
   ]
  },
  {
   "cell_type": "markdown",
   "metadata": {
    "id": "-0Lj33f5i3fr"
   },
   "source": [
    "In the follwing block write a fucntion that will plot \n",
    "- an $8 \\times 8$ block from the original image \n",
    "- the DCT applied to that block.  (Note you may want to control the ```vmax``` input value in ```imshow``` or apply a log transform in order to see a better range of valeus of the image)"
   ]
  },
  {
   "cell_type": "code",
   "execution_count": 111,
   "metadata": {
    "id": "2qDmdvmgi3fs"
   },
   "outputs": [
    {
     "data": {
      "text/plain": [
       "array([[0., 0., 0., 0., 0., 0., 0., 0.],\n",
       "       [0., 0., 0., 0., 0., 0., 0., 0.],\n",
       "       [0., 0., 0., 0., 0., 0., 0., 0.],\n",
       "       [0., 0., 0., 0., 0., 0., 0., 0.],\n",
       "       [0., 0., 0., 0., 0., 0., 0., 0.],\n",
       "       [0., 0., 0., 0., 0., 0., 0., 0.],\n",
       "       [0., 0., 0., 0., 0., 0., 0., 0.],\n",
       "       [0., 0., 0., 0., 0., 0., 0., 0.]])"
      ]
     },
     "execution_count": 111,
     "metadata": {},
     "output_type": "execute_result"
    }
   ],
   "source": [
    "dct_img = dct_block_image(image)\n",
    "\n",
    "# the top left corner of the image block\n",
    "r = 128\n",
    "c = 128\n",
    "\n",
    "# plot the block from image\n",
    "dct2(patches[38:46])\n",
    "# plot the dct of that block\n"
   ]
  },
  {
   "cell_type": "markdown",
   "metadata": {
    "id": "al0KEHyti3fs"
   },
   "source": [
    "Note the top-left corner element (coefficient of $(u=0,v=0)$ basis function) has large magnitude. This is the DC coefficient (also called the constant component), which defines the mean value for the entire block. The remaining 63 coefficients are the AC coefficients (also called the alternating components).  \n",
    "The advantage of the DCT is its tendency to aggregate most of the signal in the top left corner (or low frequency coefficients), as may be seen above. "
   ]
  },
  {
   "cell_type": "markdown",
   "metadata": {
    "id": "q9RCaE39i3fs"
   },
   "source": [
    "Now plot the full DCT block image ```dct_img```."
   ]
  },
  {
   "cell_type": "code",
   "execution_count": null,
   "metadata": {
    "id": "12djEH_Wi3fs"
   },
   "outputs": [],
   "source": [
    "# plot full DCT-block image\n"
   ]
  },
  {
   "cell_type": "markdown",
   "metadata": {
    "id": "pRaJtK9-i3ft"
   },
   "source": [
    "# 3) Compression workflow and evaluation metrics\n",
    "We will compare two methods of compressing the image using the DCT.   \n",
    "Both compression frameworks are based on the following workflow. First the image is transformed to a block-DCT image. Then some of the coefficients are zeroed out based on a thresholding scheme. Compression takes place by only the non-zero values being stored. Thus we measure the level of compression by the **percentage of non-zero values** (number of non-zeros divided by total number of pixels). Upon receiving the thresholded block-DCT image, an inverse block-DCT is applied and we obtain the compressed image.  \n",
    "\n",
    "A good compression algorithm outputs an image that is as similar as possible to the original image, but requires much less elements to store.  \n",
    "Therefore to evaulte the compression scheme, we will measure image quality using the **mean square error**:\n",
    "$$ MSE = \\frac{1}{MN} \\sum_m \\sum_n (I[m,n]-I_\\textrm{compressed}[m,n])^2$$  \n",
    "Note that other measures exist to quantify the quality of an image, some of which are tuned to human visual perception. "
   ]
  },
  {
   "cell_type": "markdown",
   "metadata": {
    "id": "rvfWl5K_i3ft"
   },
   "source": [
    "# 4) Compression - global thresholding\n",
    "For the first framework we will aplly a global threshold to the DCT-block transformed image.  \n",
    "\n",
    "In the two blocks below write \n",
    "- a function that takes as input the DCT block image and a threshold value $\\tau$. The function will zero out all DCT coefficients that are below $\\tau$ times the **maximum absolute value** of all DCT blocks. The function will output the thresholded image and the percentage of non-zero values in the thresholded image.\n",
    "- a function that takes as input an image, breaks it up into 2D patches of size $8 \\times 8$ and applies the inverse DCT transform (```idct2``` function defined above) to each patch. The output is an $M \\times N$ image where each block has been transformed back into the spatial domain.  "
   ]
  },
  {
   "cell_type": "code",
   "execution_count": null,
   "metadata": {
    "id": "tokopz_4i3ft"
   },
   "outputs": [],
   "source": [
    "def threshold_image(dct_image,tau = 0.1):\n",
    "    # remeber to return two output variables\n",
    "    return"
   ]
  },
  {
   "cell_type": "code",
   "execution_count": null,
   "metadata": {
    "id": "-hCIs8POi3ft"
   },
   "outputs": [],
   "source": [
    "def inverse_dct_block_image(dct_image):\n",
    "    # verify image height and width are multiples of 8\n",
    "    return"
   ]
  },
  {
   "cell_type": "markdown",
   "metadata": {
    "id": "JAAWoRnti3fu"
   },
   "source": [
    "Now apply the thresholding function with $\\tau=0.1$ to the DCT-block transform image and invert it back to the spatial domain. \n",
    "Then plot \n",
    "- the original image\n",
    "- the image after global thresholding  \n",
    "- the difference image between the two, where the difference image is the **absolute value** of the difference between the two images"
   ]
  },
  {
   "cell_type": "code",
   "execution_count": null,
   "metadata": {
    "id": "7zhmbC-di3fu"
   },
   "outputs": [],
   "source": [
    "# applying thresholding and invert block-DCT"
   ]
  },
  {
   "cell_type": "code",
   "execution_count": null,
   "metadata": {
    "id": "gfDSWwAXi3fu"
   },
   "outputs": [],
   "source": [
    "# plot images"
   ]
  },
  {
   "cell_type": "markdown",
   "metadata": {
    "id": "uvohaQEEi3fu"
   },
   "source": [
    "### Question\n",
    "What properties do you notice about the compressed image? What artifcats have been introduced to the image? What information has been removed or reduced? (You may should zoom-in to fully understand this question).\n",
    "\n"
   ]
  },
  {
   "cell_type": "markdown",
   "metadata": {
    "id": "iusjfBSqi3fu"
   },
   "source": [
    "### Answer"
   ]
  },
  {
   "cell_type": "markdown",
   "metadata": {
    "id": "vR9FyN2Oi3fv"
   },
   "source": []
  },
  {
   "cell_type": "markdown",
   "metadata": {
    "id": "vzj_lyUHi3fv"
   },
   "source": [
    "# 5) Evaluation\n",
    "In the compression algorithm you implemented, the threshold controls the compression rate as it implicitly determines the number of non-zeros retained in the image.  We want to evaluate how distorted the image is after compression.\n",
    "We will use MSE between the image after compression and the original image as a quality measure."
   ]
  },
  {
   "cell_type": "markdown",
   "metadata": {
    "id": "UkN9YAq6i3fv"
   },
   "source": [
    "In the block below you will loop over a range of threshold values.\n",
    "For each threshold value\n",
    "- apply the thresholding function and the block inverse-DCT\n",
    "- store in an array the percentage of non-zeros values that remained after thresholding\n",
    "- store in an array the mean squared error (MSE) between the original iamge and the compressed image\n",
    "- Plot 3 subplots of the original image, the image after global thresholding and the difference image between the two.\n",
    "\n"
   ]
  },
  {
   "cell_type": "code",
   "execution_count": null,
   "metadata": {
    "id": "QvVwF1pui3fv"
   },
   "outputs": [],
   "source": [
    "thresholds = np.arange(0.01,0.15,0.01)\n",
    "\n",
    "# create output arrays for percentage of non-zeros and MSE\n",
    "\n",
    "# loop over thresholds\n"
   ]
  },
  {
   "cell_type": "markdown",
   "metadata": {
    "id": "pZvsBGv4i3fv"
   },
   "source": [
    "### Question \n",
    "What do you notice visually as the threshold increases? What features are most affected by the compression?"
   ]
  },
  {
   "cell_type": "markdown",
   "metadata": {
    "id": "CGRSxoJ7i3fv"
   },
   "source": [
    "### Answer"
   ]
  },
  {
   "cell_type": "markdown",
   "metadata": {
    "id": "nPe8-dv6i3fv"
   },
   "source": []
  },
  {
   "cell_type": "markdown",
   "metadata": {
    "id": "KqIxMVjDi3fw"
   },
   "source": [
    "In the block below plot the following\n",
    "- thresholds vs MSE\n",
    "- thresholds vs percentage of non-zeros\n",
    "- percentage of non-zeros vs MSE"
   ]
  },
  {
   "cell_type": "code",
   "execution_count": null,
   "metadata": {
    "id": "zlbeQqmSi3fw"
   },
   "outputs": [],
   "source": [
    "# 3 plots"
   ]
  },
  {
   "cell_type": "markdown",
   "metadata": {
    "id": "bhVtabLTi3fw"
   },
   "source": [
    "### Question\n",
    "What do you notice as the threshold increases? How does it affect the MSE? How does it affect the number of non-zeros? What is the relaitonship between MSE and the number of non-zeros?"
   ]
  },
  {
   "cell_type": "markdown",
   "metadata": {
    "id": "ZwvryK6Ai3fw"
   },
   "source": [
    "### Answer"
   ]
  },
  {
   "cell_type": "markdown",
   "metadata": {
    "id": "EM1OSWMfi3fw"
   },
   "source": []
  },
  {
   "cell_type": "markdown",
   "metadata": {
    "id": "Iv_K3Pnti3fw"
   },
   "source": [
    "# 6) Local block - based compression"
   ]
  },
  {
   "cell_type": "markdown",
   "metadata": {
    "id": "UFFZMWk0i3fw"
   },
   "source": [
    "Now we will implement a block based compression approach.\n",
    "In the block below, write a function that takes as input the DCT-block image and $k$ - number of non-zero values to retain in each block (what are the minimum and maximum possible values of $k$?).   \n",
    "The function will loop over the $8 \\times 8$ blocks and for each block keep only the $k$ elements with highest **absolute value**.  \n",
    "The function will output the DCT-block image after block thresholding and the percentage of non-zero values in the thresholded image (hint: this value depends on $k$)."
   ]
  },
  {
   "cell_type": "code",
   "execution_count": null,
   "metadata": {
    "id": "w3zMuSOai3fx"
   },
   "outputs": [],
   "source": [
    "def dct_block_threshold(dct_image, k=7):\n",
    "    return"
   ]
  },
  {
   "cell_type": "markdown",
   "metadata": {
    "id": "vitG8f0Di3fx"
   },
   "source": [
    "Now apply the block thresholding function with $k=7$ to the DCT-block transform image and invert it back to the spatial domain. \n",
    "Plot \n",
    "- the original image\n",
    "- the image after local compression \n",
    "- the difference image between the two, where the difference image is the absolute value of the difference between the two images"
   ]
  },
  {
   "cell_type": "code",
   "execution_count": null,
   "metadata": {
    "id": "iakfCxz8i3fx"
   },
   "outputs": [],
   "source": []
  },
  {
   "cell_type": "markdown",
   "metadata": {
    "id": "iohm2KJvi3fx"
   },
   "source": [
    "In the block below you will loop over a range of $k$ values to retain in each block.\n",
    "For each $k$ value\n",
    "- apply the block thresholding function and the block inverse-DCT function \n",
    "- store in an array the percentage of non-zeros values that remained after thresholding\n",
    "- store in an array the mean squared error (MSE) between the original iamge and the compressed image\n",
    "- Plot 3 subplots of the original image, the image after local compression and the difference image between the two.\n",
    "\n"
   ]
  },
  {
   "cell_type": "code",
   "execution_count": null,
   "metadata": {
    "id": "BErXJyxPi3fx"
   },
   "outputs": [],
   "source": [
    "k_vals = np.arange(1,9) # number of non-zeros to retain in each block\n",
    "\n",
    "# create output arrays for percentage of non-zeros and MSE\n",
    "\n",
    "# loop over number of non-zeros to retain\n"
   ]
  },
  {
   "cell_type": "markdown",
   "metadata": {
    "id": "8YenU2LJi3fx"
   },
   "source": [
    "# 7) Method comparison \n",
    "In the block below plot the percentage of non-zeros vs MSE for both global and local thresholding"
   ]
  },
  {
   "cell_type": "code",
   "execution_count": null,
   "metadata": {
    "id": "SzMXyECWi3fy"
   },
   "outputs": [],
   "source": []
  },
  {
   "cell_type": "markdown",
   "metadata": {
    "id": "nPxRPLeMi3fy"
   },
   "source": [
    "### Question: \n",
    "Which method performs better?"
   ]
  },
  {
   "cell_type": "markdown",
   "metadata": {
    "id": "yW0yWOCci3fy"
   },
   "source": [
    "### Answer \n",
    " "
   ]
  },
  {
   "cell_type": "markdown",
   "metadata": {
    "id": "xXeFAytli3fy"
   },
   "source": []
  }
 ],
 "metadata": {
  "colab": {
   "name": "Question2_JPEGCompress.ipynb",
   "provenance": []
  },
  "kernelspec": {
   "display_name": "Python 3 (ipykernel)",
   "language": "python",
   "name": "python3"
  },
  "language_info": {
   "codemirror_mode": {
    "name": "ipython",
    "version": 3
   },
   "file_extension": ".py",
   "mimetype": "text/x-python",
   "name": "python",
   "nbconvert_exporter": "python",
   "pygments_lexer": "ipython3",
   "version": "3.9.7"
  }
 },
 "nbformat": 4,
 "nbformat_minor": 1
}
