{
 "cells": [
  {
   "cell_type": "code",
   "execution_count": 101,
   "id": "18054a44",
   "metadata": {},
   "outputs": [],
   "source": [
    "import numpy as np\n",
    "import math"
   ]
  },
  {
   "cell_type": "code",
   "execution_count": 2,
   "id": "a5fe7200",
   "metadata": {},
   "outputs": [],
   "source": [
    "#a"
   ]
  },
  {
   "cell_type": "code",
   "execution_count": 69,
   "id": "33183712",
   "metadata": {},
   "outputs": [],
   "source": [
    "b_0 = np.array((1/np.sqrt(2), 1/2, -1/2, 0))\n",
    "b_1 = np.array((0, 1/np.sqrt(2), 1/np.sqrt(2), 0))\n",
    "b_2 = np.array((1/np.sqrt(2), -1/2, 1/2, 0))\n",
    "b_3 = np.array((0, 0, 0, 1))"
   ]
  },
  {
   "cell_type": "code",
   "execution_count": 70,
   "id": "fe36f86e",
   "metadata": {},
   "outputs": [
    {
     "name": "stdout",
     "output_type": "stream",
     "text": [
      "[ 0.70710678  0.5        -0.5         0.        ]\n"
     ]
    }
   ],
   "source": [
    "print(b_0)"
   ]
  },
  {
   "cell_type": "code",
   "execution_count": 112,
   "id": "34cc7866",
   "metadata": {},
   "outputs": [],
   "source": [
    "#print(b_3.T.shape)"
   ]
  },
  {
   "cell_type": "code",
   "execution_count": 113,
   "id": "73f518f0",
   "metadata": {},
   "outputs": [],
   "source": [
    "#print(b_0.T)"
   ]
  },
  {
   "cell_type": "code",
   "execution_count": 77,
   "id": "06f9527a",
   "metadata": {},
   "outputs": [
    {
     "name": "stdout",
     "output_type": "stream",
     "text": [
      "[[ 0.70710678  0.          0.70710678  0.        ]\n",
      " [ 0.5         0.70710678 -0.5         0.        ]\n",
      " [-0.5         0.70710678  0.5         0.        ]\n",
      " [ 0.          0.          0.          1.        ]]\n"
     ]
    }
   ],
   "source": [
    "A = np.column_stack((b_0,b_1,b_2,b_3))\n",
    "print(A)"
   ]
  },
  {
   "cell_type": "code",
   "execution_count": 116,
   "id": "36ec6d17",
   "metadata": {},
   "outputs": [
    {
     "data": {
      "text/plain": [
       "(4, 4)"
      ]
     },
     "execution_count": 116,
     "metadata": {},
     "output_type": "execute_result"
    }
   ],
   "source": [
    "A.shape\n",
    "#type(A)"
   ]
  },
  {
   "cell_type": "code",
   "execution_count": 115,
   "id": "0ee1a762",
   "metadata": {
    "scrolled": true
   },
   "outputs": [
    {
     "name": "stdout",
     "output_type": "stream",
     "text": [
      "norm of b_0: 0.9999999999999999\n",
      "norm of b_1: 0.9999999999999999\n",
      "norm of b_2: 0.9999999999999999\n",
      "norm of b_3: 1.0\n",
      "0.0\n",
      "-1.1102230246251565e-16\n",
      "0.0\n",
      "0.0\n",
      "0.0\n",
      "0.0\n",
      "[[ 1.00000000e+00  0.00000000e+00  0.00000000e+00  0.00000000e+00]\n",
      " [ 0.00000000e+00  1.00000000e+00 -8.32667268e-17  0.00000000e+00]\n",
      " [ 0.00000000e+00 -8.32667268e-17  1.00000000e+00  0.00000000e+00]\n",
      " [ 0.00000000e+00  0.00000000e+00  0.00000000e+00  1.00000000e+00]]\n"
     ]
    }
   ],
   "source": [
    "#b)\n",
    "#prove column norms are unit length = 1\n",
    "print(\"norm of b_0:\", np.linalg.norm(b_0))\n",
    "print(\"norm of b_1:\", np.linalg.norm(b_1))\n",
    "print(\"norm of b_2:\", np.linalg.norm(b_2))\n",
    "print(\"norm of b_3:\", np.linalg.norm(b_3))\n",
    "\n",
    "\n",
    "#prove orthogonality among vectors\n",
    "print(np.inner(b_0,b_1))\n",
    "print(np.inner(b_0,b_2))\n",
    "print(np.inner(b_0,b_3))\n",
    "\n",
    "print(np.inner(b_1,b_2))\n",
    "print(np.inner(b_1,b_3))\n",
    "\n",
    "print(np.inner(b_2,b_3))\n",
    "\n",
    "\n",
    "print(np.matmul(A,A.T)) # we get identity matrix, orthogonal matrix\n",
    "# despite some roundning errors we can see all vectors are norm = 1, \n",
    "#and all vectors are orthogonal to each other"
   ]
  },
  {
   "cell_type": "code",
   "execution_count": 127,
   "id": "5e92924f",
   "metadata": {},
   "outputs": [
    {
     "name": "stdout",
     "output_type": "stream",
     "text": [
      "coef c_1: [[0.41421356]]\n",
      "coef c_2: [[1.41421356]]\n",
      "coef c_3: [[2.41421356]]\n",
      "coef c_4: [[2.]]\n"
     ]
    }
   ],
   "source": [
    "#c)\n",
    "\n",
    "ex = np.matrix([2,0,2,2])\n",
    "#print(ex.T)\n",
    "\n",
    "#print(ex.shape[1])\n",
    "for i in np.arange(ex.shape[1]):\n",
    "   \n",
    "    print(\"coef c_\" + str(i+1) + \":\" , np.inner(ex, \n",
    "                                                np.matrix(A[:,i])))"
   ]
  },
  {
   "cell_type": "code",
   "execution_count": 107,
   "id": "e71394ad",
   "metadata": {},
   "outputs": [
    {
     "name": "stdout",
     "output_type": "stream",
     "text": [
      "[ 2.00000000e+00 -1.67803149e-09  2.00000000e+00  2.00000000e+00]\n"
     ]
    }
   ],
   "source": [
    "#verify \n",
    "f = (0.41421356 * b_0) + (1.41421356 * b_1) \n",
    "    + (2.41421356 * b_2) + (2 *b_3)\n",
    "print(f) # should equal ex vector"
   ]
  },
  {
   "cell_type": "code",
   "execution_count": 119,
   "id": "97bf1576",
   "metadata": {},
   "outputs": [],
   "source": [
    "#math.isclose(f[1], 0)\n",
    "#[1]"
   ]
  },
  {
   "cell_type": "code",
   "execution_count": 133,
   "id": "d5129ef4",
   "metadata": {},
   "outputs": [
    {
     "name": "stdout",
     "output_type": "stream",
     "text": [
      "orthogonal projection span {b0, b1}: [[0.29289322 1.20710678 0.79289322 0.        ]]\n",
      "complement orthogonal projection span {b2, b3}: [[ 1.70710678 -1.20710678  1.20710678  2.        ]]\n"
     ]
    },
    {
     "data": {
      "text/plain": [
       "matrix([[ 2.00000000e+00, -2.22044605e-16,  2.00000000e+00,\n",
       "          2.00000000e+00]])"
      ]
     },
     "execution_count": 133,
     "metadata": {},
     "output_type": "execute_result"
    }
   ],
   "source": [
    "#d)\n",
    "def compute_projections(vec, b_0arg, b_1arg, b_2arg, b_3arg):\n",
    "    \n",
    "    inner_prod0 = (np.inner(vec, b_0arg) * b_0arg)\n",
    "    inner_prod1 = (np.inner(vec, b_1arg) * b_1arg)\n",
    "    \n",
    "    project = inner_prod0 + inner_prod1\n",
    "    \n",
    "    inner_prod2 = (np.inner(vec, b_2arg) * b_2arg)\n",
    "    inner_prod3 = (np.inner(vec, b_3arg) * b_3arg)\n",
    "    orth_comp_project = inner_prod2 + inner_prod3\n",
    "    return project, orth_comp_project\n",
    "\n",
    "\n",
    "orth_proj, comp_proj = compute_projections(np.matrix([2,0,2,2]), \n",
    "        np.matrix(b_0),np.matrix(b_1),np.matrix(b_2),np.matrix(b_3))\n",
    "#verify, adding up projection with complement should equal original vector\n",
    "print(\"orthogonal projection span {b0, b1}:\", orth_proj)\n",
    "print(\"complement orthogonal projection span {b2, b3}:\", comp_proj)\n",
    "orth_proj + comp_proj"
   ]
  }
 ],
 "metadata": {
  "kernelspec": {
   "display_name": "Python 3 (ipykernel)",
   "language": "python",
   "name": "python3"
  },
  "language_info": {
   "codemirror_mode": {
    "name": "ipython",
    "version": 3
   },
   "file_extension": ".py",
   "mimetype": "text/x-python",
   "name": "python",
   "nbconvert_exporter": "python",
   "pygments_lexer": "ipython3",
   "version": "3.9.7"
  }
 },
 "nbformat": 4,
 "nbformat_minor": 5
}
